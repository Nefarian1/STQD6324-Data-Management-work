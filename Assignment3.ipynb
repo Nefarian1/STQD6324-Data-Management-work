{
  "nbformat": 4,
  "nbformat_minor": 0,
  "metadata": {
    "colab": {
      "provenance": [],
      "authorship_tag": "ABX9TyMdt+0Jg1WXpr0uX9oxa/qB",
      "include_colab_link": true
    },
    "kernelspec": {
      "name": "python3",
      "display_name": "Python 3"
    },
    "language_info": {
      "name": "python"
    }
  },
  "cells": [
    {
      "cell_type": "markdown",
      "metadata": {
        "id": "view-in-github",
        "colab_type": "text"
      },
      "source": [
        "<a href=\"https://colab.research.google.com/github/Nefarian1/STQD6324-Data-Management-work/blob/main/Assignment3.ipynb\" target=\"_parent\"><img src=\"https://colab.research.google.com/assets/colab-badge.svg\" alt=\"Open In Colab\"/></a>"
      ]
    },
    {
      "cell_type": "markdown",
      "source": [
        "# STQD6324 Assignment 3 PANZHANGYU P136922"
      ],
      "metadata": {
        "id": "eb5pDVnzqPHX"
      }
    },
    {
      "cell_type": "code",
      "execution_count": 1,
      "metadata": {
        "colab": {
          "base_uri": "https://localhost:8080/"
        },
        "id": "IH5ioxBwqIKr",
        "outputId": "f5476546-82d5-4d39-d500-4fd379bff94f"
      },
      "outputs": [
        {
          "output_type": "stream",
          "name": "stdout",
          "text": [
            "Collecting pyspark\n",
            "  Downloading pyspark-3.5.1.tar.gz (317.0 MB)\n",
            "\u001b[2K     \u001b[90m━━━━━━━━━━━━━━━━━━━━━━━━━━━━━━━━━━━━━━━━\u001b[0m \u001b[32m317.0/317.0 MB\u001b[0m \u001b[31m3.2 MB/s\u001b[0m eta \u001b[36m0:00:00\u001b[0m\n",
            "\u001b[?25h  Preparing metadata (setup.py) ... \u001b[?25l\u001b[?25hdone\n",
            "Requirement already satisfied: py4j==0.10.9.7 in /usr/local/lib/python3.10/dist-packages (from pyspark) (0.10.9.7)\n",
            "Building wheels for collected packages: pyspark\n",
            "  Building wheel for pyspark (setup.py) ... \u001b[?25l\u001b[?25hdone\n",
            "  Created wheel for pyspark: filename=pyspark-3.5.1-py2.py3-none-any.whl size=317488491 sha256=d36547bc603c9cc1e0b138f44e3c5a0ab783dc04e2d505daa81d005158ddf461\n",
            "  Stored in directory: /root/.cache/pip/wheels/80/1d/60/2c256ed38dddce2fdd93be545214a63e02fbd8d74fb0b7f3a6\n",
            "Successfully built pyspark\n",
            "Installing collected packages: pyspark\n",
            "Successfully installed pyspark-3.5.1\n"
          ]
        }
      ],
      "source": [
        "pip install pyspark\n"
      ]
    },
    {
      "cell_type": "code",
      "source": [
        "from pyspark.sql import SparkSession\n",
        "from sklearn.datasets import load_iris\n",
        "import pandas as pd\n",
        "from pyspark.ml.feature import VectorAssembler\n",
        "from pyspark.ml.classification import RandomForestClassifier\n",
        "from pyspark.ml import Pipeline\n",
        "from pyspark.ml.tuning import CrossValidator, ParamGridBuilder\n",
        "from pyspark.ml.evaluation import MulticlassClassificationEvaluator"
      ],
      "metadata": {
        "id": "yNrDo0BkudZl"
      },
      "execution_count": 9,
      "outputs": []
    },
    {
      "cell_type": "code",
      "source": [
        "# SparkSession\n",
        "spark = SparkSession.builder.appName(\"IrisClassification\").getOrCreate()\n",
        "\n",
        "# 从sklearn加载Iris数据集 Loading the Iris dataset from sklearn\n",
        "iris = load_iris()\n",
        "iris_df = pd.DataFrame(data=iris.data, columns=iris.feature_names)\n",
        "iris_df['label'] = iris.target\n",
        "\n",
        "# 将pandas DataFrame转换为Spark      DataFrame Convert pandas DataFrame to Spark DataFrame\n",
        "df = spark.createDataFrame(iris_df)"
      ],
      "metadata": {
        "id": "e8QC6Q_nugO6"
      },
      "execution_count": 10,
      "outputs": []
    },
    {
      "cell_type": "code",
      "source": [
        "# 将数据集分为训练集和测试集 Split the dataset into training and testing sets\n",
        "train_df, test_df = df.randomSplit([0.8, 0.2], seed=42)\n",
        "\n",
        "# 将特征列组合成一个特征向量 Combine feature columns into a feature vector\n",
        "assembler = VectorAssembler(inputCols=iris.feature_names, outputCol=\"features\")\n",
        "rf = RandomForestClassifier(labelCol=\"label\", featuresCol=\"features\")\n",
        "\n",
        "# 创建Pipeline Creating a Pipeline\n",
        "pipeline = Pipeline(stages=[assembler, rf])\n",
        "\n",
        "# 创建参数网格 Creating a parameter grid\n",
        "paramGrid = (ParamGridBuilder()\n",
        "             .addGrid(rf.numTrees, [10, 20, 30])\n",
        "             .addGrid(rf.maxDepth, [5, 10, 15])\n",
        "             .build())\n",
        "\n",
        "# 创建评估器 Creating an Evaluator\n",
        "evaluator = MulticlassClassificationEvaluator(labelCol=\"label\", predictionCol=\"prediction\", metricName=\"accuracy\")\n",
        "\n",
        "# 创建交叉验证器 Creating a cross validator\n",
        "crossval = CrossValidator(estimator=pipeline,\n",
        "                          estimatorParamMaps=paramGrid,\n",
        "                          evaluator=evaluator,\n",
        "                          numFolds=3)\n",
        "\n",
        "# 训练模型 Training the model\n",
        "cvModel = crossval.fit(train_df)\n",
        "\n",
        "# 在测试集上生成预测 Generate predictions on the test set\n",
        "predictions = cvModel.transform(test_df)\n",
        "\n",
        "# 打印预测数据的示例 Example of printing forecast data\n",
        "predictions.select(\"features\", \"label\", \"prediction\").show(5)"
      ],
      "metadata": {
        "colab": {
          "base_uri": "https://localhost:8080/"
        },
        "id": "tblKZAGKujUS",
        "outputId": "94521d67-4c60-4dc5-ee80-1a9fafef426f"
      },
      "execution_count": 11,
      "outputs": [
        {
          "output_type": "stream",
          "name": "stdout",
          "text": [
            "+-----------------+-----+----------+\n",
            "|         features|label|prediction|\n",
            "+-----------------+-----+----------+\n",
            "|[4.4,3.0,1.3,0.2]|    0|       0.0|\n",
            "|[4.6,3.2,1.4,0.2]|    0|       0.0|\n",
            "|[4.6,3.6,1.0,0.2]|    0|       0.0|\n",
            "|[4.8,3.1,1.6,0.2]|    0|       0.0|\n",
            "|[4.9,3.1,1.5,0.2]|    0|       0.0|\n",
            "+-----------------+-----+----------+\n",
            "only showing top 5 rows\n",
            "\n"
          ]
        }
      ]
    },
    {
      "cell_type": "code",
      "source": [
        "# 检查预测数据的schema Check the schema of the prediction data\n",
        "predictions.printSchema()\n",
        "\n",
        "# 评估模型性能 Evaluating Model Performance\n",
        "accuracy = evaluator.evaluate(predictions)\n",
        "print(f\"Test Accuracy: {accuracy}\")\n",
        "\n",
        "# 计算其他评估指标 Calculating other evaluation metrics\n",
        "evaluator.setMetricName(\"weightedPrecision\")\n",
        "precision = evaluator.evaluate(predictions)\n",
        "print(f\"Test Precision: {precision}\")\n",
        "\n",
        "evaluator.setMetricName(\"weightedRecall\")\n",
        "recall = evaluator.evaluate(predictions)\n",
        "print(f\"Test Recall: {recall}\")\n",
        "\n",
        "evaluator.setMetricName(\"f1\")\n",
        "f1 = evaluator.evaluate(predictions)\n",
        "print(f\"Test F1 Score: {f1}\")"
      ],
      "metadata": {
        "colab": {
          "base_uri": "https://localhost:8080/"
        },
        "id": "K4D4agGOunXi",
        "outputId": "b406ddfe-8b79-4f08-83e9-1b3505d651b3"
      },
      "execution_count": 12,
      "outputs": [
        {
          "output_type": "stream",
          "name": "stdout",
          "text": [
            "root\n",
            " |-- sepal length (cm): double (nullable = true)\n",
            " |-- sepal width (cm): double (nullable = true)\n",
            " |-- petal length (cm): double (nullable = true)\n",
            " |-- petal width (cm): double (nullable = true)\n",
            " |-- label: long (nullable = true)\n",
            " |-- features: vector (nullable = true)\n",
            " |-- rawPrediction: vector (nullable = true)\n",
            " |-- probability: vector (nullable = true)\n",
            " |-- prediction: double (nullable = false)\n",
            "\n",
            "Test Accuracy: 0.96875\n",
            "Test Precision: 0.9732142857142857\n",
            "Test Recall: 0.96875\n",
            "Test F1 Score: 0.969326923076923\n"
          ]
        }
      ]
    },
    {
      "cell_type": "code",
      "source": [
        "# 显示预测结果和实际标签 Display predictions and actual labels\n",
        "predictions.select(\"features\", \"label\", \"prediction\").show()\n",
        "\n",
        "# 进行比较分析 Conduct comparative analysis\n",
        "predictions.groupBy(\"label\", \"prediction\").count().show()"
      ],
      "metadata": {
        "colab": {
          "base_uri": "https://localhost:8080/"
        },
        "id": "_1WXHUUsuqJJ",
        "outputId": "8cfea0a5-323e-4c2c-a7a1-a1b42d6a7634"
      },
      "execution_count": 13,
      "outputs": [
        {
          "output_type": "stream",
          "name": "stdout",
          "text": [
            "+-----------------+-----+----------+\n",
            "|         features|label|prediction|\n",
            "+-----------------+-----+----------+\n",
            "|[4.4,3.0,1.3,0.2]|    0|       0.0|\n",
            "|[4.6,3.2,1.4,0.2]|    0|       0.0|\n",
            "|[4.6,3.6,1.0,0.2]|    0|       0.0|\n",
            "|[4.8,3.1,1.6,0.2]|    0|       0.0|\n",
            "|[4.9,3.1,1.5,0.2]|    0|       0.0|\n",
            "|[5.0,3.2,1.2,0.2]|    0|       0.0|\n",
            "|[5.0,3.6,1.4,0.2]|    0|       0.0|\n",
            "|[5.1,3.8,1.5,0.3]|    0|       0.0|\n",
            "|[5.4,3.7,1.5,0.2]|    0|       0.0|\n",
            "|[5.4,3.9,1.3,0.4]|    0|       0.0|\n",
            "|[5.4,3.9,1.7,0.4]|    0|       0.0|\n",
            "|[5.5,3.5,1.3,0.2]|    0|       0.0|\n",
            "|[5.6,2.5,3.9,1.1]|    1|       1.0|\n",
            "|[5.7,3.8,1.7,0.3]|    0|       0.0|\n",
            "|[6.1,2.8,4.0,1.3]|    1|       1.0|\n",
            "|[6.4,3.2,4.5,1.5]|    1|       1.0|\n",
            "|[4.9,2.5,4.5,1.7]|    2|       1.0|\n",
            "|[5.5,2.4,3.8,1.1]|    1|       1.0|\n",
            "|[5.5,2.5,4.0,1.3]|    1|       1.0|\n",
            "|[5.7,2.9,4.2,1.3]|    1|       1.0|\n",
            "+-----------------+-----+----------+\n",
            "only showing top 20 rows\n",
            "\n",
            "+-----+----------+-----+\n",
            "|label|prediction|count|\n",
            "+-----+----------+-----+\n",
            "|    0|       0.0|   13|\n",
            "|    1|       1.0|    6|\n",
            "|    2|       2.0|   12|\n",
            "|    2|       1.0|    1|\n",
            "+-----+----------+-----+\n",
            "\n"
          ]
        }
      ]
    },
    {
      "cell_type": "code",
      "source": [
        "import matplotlib.pyplot as plt\n",
        "import seaborn as sns\n",
        "from sklearn.metrics import confusion_matrix\n",
        "\n",
        "# 构建混淆矩阵 Constructing the confusion matrix\n",
        "y_true = [0]*13 + [1]*6 + [2]*13\n",
        "y_pred = [0]*13 + [1]*6 + [2]*12 + [1]\n",
        "\n",
        "cm = confusion_matrix(y_true, y_pred)\n",
        "\n",
        "# 可视化混淆矩阵 Visualizing the Confusion Matrix\n",
        "plt.figure(figsize=(8, 6))\n",
        "sns.heatmap(cm, annot=True, fmt='d', cmap='Blues', xticklabels=iris.target_names, yticklabels=iris.target_names)\n",
        "plt.xlabel('Predicted')\n",
        "plt.ylabel('Actual')\n",
        "plt.title('Confusion Matrix')\n",
        "plt.show()\n"
      ],
      "metadata": {
        "colab": {
          "base_uri": "https://localhost:8080/",
          "height": 564
        },
        "id": "UhGGOifow5wn",
        "outputId": "6a9bdc34-de1a-4a46-cd00-4c0febbc79bf"
      },
      "execution_count": 14,
      "outputs": [
        {
          "output_type": "display_data",
          "data": {
            "text/plain": [
              "<Figure size 800x600 with 2 Axes>"
            ],
            "image/png": "[encoded data removed]"
          },
          "metadata": {}
        }
      ]
    }
  ]
}